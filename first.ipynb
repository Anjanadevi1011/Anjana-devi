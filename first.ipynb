{
 "cells": [
  {
   "cell_type": "code",
   "execution_count": 1,
   "id": "b7315d68",
   "metadata": {},
   "outputs": [
    {
     "name": "stdout",
     "output_type": "stream",
     "text": [
      "enter a string:python\n",
      "hton\n"
     ]
    }
   ],
   "source": [
    "'''1.Write a python program for the following:\n",
    "– Input the string “Python” as a list of characters from console, delete at least 2 characters, reverse the\n",
    "resultantstring and print it.'''\n",
    "\n",
    "\n",
    "import random\n",
    "string=input(\"enter a string:\")\n",
    "l1=[]\n",
    "for i in range(0,len(string)):\n",
    "        l1.append(string[i])\n",
    "del l1[:2]\n",
    "random.shuffle(l1)\n",
    "result=''.join(l1)\n",
    "print(result)"
   ]
  },
  {
   "cell_type": "code",
   "execution_count": 4,
   "id": "6049ccf5",
   "metadata": {},
   "outputs": [
    {
     "name": "stdout",
     "output_type": "stream",
     "text": [
      "enter a value:7\n",
      "enter b value:9\n",
      "results for add,sub,multiply,divide:\n",
      "16 -2 63 7\n"
     ]
    }
   ],
   "source": [
    "'''– Take two numbers from user and perform at least 4 arithmetic operations on them'''\n",
    "\n",
    "\n",
    "A = int(input(\"enter a value:\"))\n",
    "B = int(input(\"enter b value:\"))\n",
    "print(\"results for add,sub,multiply,divide:\")\n",
    "print(A+B , A-B, A*B, A%B)\n",
    "\n"
   ]
  },
  {
   "cell_type": "code",
   "execution_count": 2,
   "id": "ea959541",
   "metadata": {},
   "outputs": [
    {
     "name": "stdout",
     "output_type": "stream",
     "text": [
      "enter a string:I like python programming\n",
      "I like pythons programming\n"
     ]
    }
   ],
   "source": [
    "'''2.Write a program that accepts a sentence and replace each occurrence of ‘python’ with ‘pythons’.'''\n",
    "\n",
    "\n",
    "str=input(\"enter a string:\")\n",
    "new=str.replace(\"python\",\"pythons\")\n",
    "print(new)\n"
   ]
  },
  {
   "cell_type": "code",
   "execution_count": 3,
   "id": "823f5748",
   "metadata": {},
   "outputs": [
    {
     "name": "stdout",
     "output_type": "stream",
     "text": [
      "enter class score:85\n",
      "B\n"
     ]
    }
   ],
   "source": [
    "\"'3.Use the if statement conditions to write a program to print the letter grade based on an input class score. Use the grading scheme we are using in this class.'\"\n",
    "\n",
    "grade=int(input(\"enter class score:\"))\n",
    "if(grade>=100):\n",
    "    print(\"invalid number\")\n",
    "elif(grade>=90):\n",
    "    print(\"A\")\n",
    "elif(grade>=80):\n",
    "    print(\"B\")\n",
    "elif(grade>=70):\n",
    "    print(\"C\")\n",
    "elif(grade>=60):\n",
    "    print(\"D\")\n",
    "else:\n",
    "    print(\"F\")"
   ]
  },
  {
   "cell_type": "code",
   "execution_count": null,
   "id": "64f656f9",
   "metadata": {},
   "outputs": [],
   "source": []
  }
 ],
 "metadata": {
  "kernelspec": {
   "display_name": "Python 3 (ipykernel)",
   "language": "python",
   "name": "python3"
  },
  "language_info": {
   "codemirror_mode": {
    "name": "ipython",
    "version": 3
   },
   "file_extension": ".py",
   "mimetype": "text/x-python",
   "name": "python",
   "nbconvert_exporter": "python",
   "pygments_lexer": "ipython3",
   "version": "3.11.4"
  }
 },
 "nbformat": 4,
 "nbformat_minor": 5
}
